{
 "cells": [
  {
   "cell_type": "code",
   "execution_count": 1,
   "metadata": {},
   "outputs": [],
   "source": [
    "import math, random\n",
    "import os \n",
    "\n",
    "import gym\n",
    "from gym import wrappers \n",
    "import numpy as np\n",
    "\n",
    "import torch\n",
    "import torch.nn as nn\n",
    "import torch.optim as optim\n",
    "from torch.autograd import Variable\n",
    "import torch.nn.functional as F"
   ]
  },
  {
   "cell_type": "code",
   "execution_count": 2,
   "metadata": {},
   "outputs": [],
   "source": [
    "from IPython.display import clear_output\n",
    "import matplotlib.pyplot as plt\n",
    "%matplotlib inline"
   ]
  },
  {
   "cell_type": "markdown",
   "metadata": {},
   "source": [
    "# Environment"
   ]
  },
  {
   "cell_type": "code",
   "execution_count": 3,
   "metadata": {},
   "outputs": [
    {
     "name": "stderr",
     "output_type": "stream",
     "text": [
      "/home/lisyuan/Lisyuan_Workspace/venv/gym/gym/logger.py:30: UserWarning: \u001b[33mWARN: Box bound precision lowered by casting to float32\u001b[0m\n",
      "  warnings.warn(colorize('%s: %s'%('WARN', msg % args), 'yellow'))\n"
     ]
    }
   ],
   "source": [
    "env_id = \"CartPole-v1\"\n",
    "env = gym.make(env_id)\n",
    "env = wrappers.Monitor(env,'./monitor/cartpole', video_callable=lambda episode_id: episode_id%10==0, force=True)"
   ]
  },
  {
   "cell_type": "markdown",
   "metadata": {},
   "source": [
    "# Use Cuda"
   ]
  },
  {
   "cell_type": "code",
   "execution_count": 4,
   "metadata": {},
   "outputs": [],
   "source": [
    "use_cuda = torch.cuda.is_available()\n",
    "variable = lambda *args, **kwargs: Variable(*args, **kwargs).cuda() if use_cuda else Variable(*args, **kwargs) "
   ]
  },
  {
   "cell_type": "markdown",
   "metadata": {},
   "source": [
    "# Replay Buffer"
   ]
  },
  {
   "cell_type": "code",
   "execution_count": 5,
   "metadata": {},
   "outputs": [],
   "source": [
    "class Replay_Buffer():\n",
    "    \n",
    "    def __init__(self):\n",
    "        \n",
    "        self.memory = []\n",
    "        \n",
    "    def push(self, state, action, reward, next_state, done):\n",
    "        \n",
    "        \"\"\"\n",
    "        Args:\n",
    "            state(np.array): the current state\n",
    "            action: 0 or 1\n",
    "            reward: 0 or 1\n",
    "            next_state(np.array): the next state when given action\n",
    "            done(boolean): finish one episode or not\n",
    "        \"\"\"\n",
    "        \n",
    "        state = state[np.newaxis, :]\n",
    "        next_state = next_state[np.newaxis, :]\n",
    "    \n",
    "        self.memory.append((state, action, reward, next_state, done))\n",
    "    \n",
    "    def sample(self, batch):\n",
    "    \n",
    "        state, action, reward, next_state, done = zip(*random.sample(self.memory, batch))\n",
    "        \n",
    "        return np.concatenate(state), action, reward, np.concatenate(next_state), done\n",
    "   \n",
    "    def pop(self):\n",
    "        \n",
    "        del self.memory[0]\n",
    "\n",
    "    def __len__(self):\n",
    "        \n",
    "        return len(self.memory)"
   ]
  },
  {
   "cell_type": "markdown",
   "metadata": {},
   "source": [
    "# Epsilon Decay"
   ]
  },
  {
   "cell_type": "code",
   "execution_count": 13,
   "metadata": {},
   "outputs": [],
   "source": [
    "epsilon_start = 1.0\n",
    "epsilon_final = 0.01\n",
    "decay_rate = 50 # decay by episode \n",
    "\n",
    "epsilon_decay = lambda episodes: epsilon_final + (epsilon_start - epsilon_final) * math.exp(-1 * episodes / decay_rate)"
   ]
  },
  {
   "cell_type": "code",
   "execution_count": 7,
   "metadata": {},
   "outputs": [
    {
     "data": {
      "text/plain": [
       "[<matplotlib.lines.Line2D at 0x7f553269aeb8>]"
      ]
     },
     "execution_count": 7,
     "metadata": {},
     "output_type": "execute_result"
    },
    {
     "data": {
      "image/png": "[encoded data removed]",
      "text/plain": [
       "<Figure size 432x288 with 1 Axes>"
      ]
     },
     "metadata": {
      "needs_background": "light"
     },
     "output_type": "display_data"
    }
   ],
   "source": [
    "plt.plot([epsilon_decay(i) for i in range(500)])"
   ]
  },
  {
   "cell_type": "markdown",
   "metadata": {},
   "source": [
    "# Deep Q Network"
   ]
  },
  {
   "cell_type": "code",
   "execution_count": 8,
   "metadata": {},
   "outputs": [],
   "source": [
    "class DQN(nn.Module):\n",
    "    \n",
    "    def __init__(self, num_state, num_action):\n",
    "\n",
    "        super(DQN, self).__init__()\n",
    "        self.model = nn.Sequential(nn.Linear(num_state, 64),\n",
    "                                   nn.ReLU(),\n",
    "                                   nn.Linear(64, 32),\n",
    "                                   nn.ReLU(),\n",
    "                                   nn.Linear(32, num_action))\n",
    "    def forward(self, x):\n",
    "        return self.model(x)\n",
    "    "
   ]
  },
  {
   "cell_type": "markdown",
   "metadata": {},
   "source": [
    "# Epsilon Greedy Policy "
   ]
  },
  {
   "cell_type": "code",
   "execution_count": 9,
   "metadata": {},
   "outputs": [],
   "source": [
    "def policy(state, epsilon):\n",
    "    \n",
    "    \"\"\"\n",
    "    epsilon greedy policy for exploration and exploitation\n",
    "    Args:\n",
    "        state : the current state \n",
    "        epsilon: number > epsilon, the action depends on the q-value.\n",
    "                 otherwise, random action\n",
    "    returns:\n",
    "        action: 0 or 1 \n",
    "    \"\"\"\n",
    "    state = variable(torch.from_numpy(state[np.newaxis,:]).float())\n",
    "    q_value = model(state)\n",
    "    \n",
    "    if random.random() > epsilon:\n",
    "        action = q_value.max(1)[1].item()\n",
    "    else: \n",
    "        action = random.randint(0, 1)\n",
    "\n",
    "    return action"
   ]
  },
  {
   "cell_type": "markdown",
   "metadata": {},
   "source": [
    "# Temporal Difference Loss"
   ]
  },
  {
   "cell_type": "code",
   "execution_count": 10,
   "metadata": {},
   "outputs": [],
   "source": [
    "def update_Qnetwork(batchsize, gamma, optimizer):\n",
    "    \n",
    "    \"\"\"\n",
    "    caculate the TD-loss and backpropagation    \n",
    "    \"\"\"\n",
    "    state, action, reward, next_state, done = buffer.sample(batchsize)\n",
    "    \n",
    "    state = variable(torch.from_numpy(state).float())\n",
    "    action = variable(torch.tensor(action))\n",
    "    reward = variable(torch.tensor(reward))\n",
    "    next_state = variable(torch.from_numpy(next_state).float())\n",
    "    done = variable(torch.tensor(done).float())\n",
    "\n",
    "\n",
    "    q_value = model(state)\n",
    "    next_q_value = model(next_state)\n",
    "    \n",
    "    q_value = q_value.gather(1, action.unsqueeze(1)).squeeze(1) # Q(s,a)\n",
    "    target = reward + gamma * next_q_value.max(1)[0] * (1 - done)\n",
    "\n",
    "    loss = ((target - q_value)**2).mean()\n",
    "    \n",
    "    optimizer.zero_grad()\n",
    "    loss.backward()\n",
    "    optimizer.step()\n",
    "    \n",
    "    return loss "
   ]
  },
  {
   "cell_type": "markdown",
   "metadata": {},
   "source": [
    "# Plot"
   ]
  },
  {
   "cell_type": "code",
   "execution_count": 11,
   "metadata": {},
   "outputs": [],
   "source": [
    "save_path = \"./figure\"\n",
    "\n",
    "def plot(reward, loss):\n",
    "    \n",
    "    clear_output(True)\n",
    "\n",
    "    plt.figure()\n",
    "    plt.subplot(1, 2, 1)\n",
    "    plt.title(\"Rewards vs Episode\")\n",
    "    plt.xlabel('episode')\n",
    "    plt.ylabel('reward')\n",
    "    plt.plot(reward)\n",
    "    plt.subplot(1, 2, 2)\n",
    "    plt.title(\"loss\")\n",
    "    plt.xlabel('frames')\n",
    "    plt.ylabel('loss')\n",
    "    plt.plot(loss)\n",
    "    \n",
    "    if not os.path.exists(save_path):\n",
    "        os.makedirs(save_path)\n",
    "        \n",
    "    plt.savefig(os.path.join(save_path, 'figure.png'))\n",
    "    plt.show()\n"
   ]
  },
  {
   "cell_type": "markdown",
   "metadata": {},
   "source": [
    "# Training"
   ]
  },
  {
   "cell_type": "code",
   "execution_count": 12,
   "metadata": {
    "scrolled": false
   },
   "outputs": [
    {
     "data": {
      "image/png": "[encoded data removed]",
      "text/plain": [
       "<Figure size 432x288 with 2 Axes>"
      ]
     },
     "metadata": {
      "needs_background": "light"
     },
     "output_type": "display_data"
    },
    {
     "name": "stdout",
     "output_type": "stream",
     "text": [
      "finishing training after 329 episode\n"
     ]
    }
   ],
   "source": [
    "episode = 500\n",
    "buffer_size = 1000\n",
    "gamma = 0.99\n",
    "lr = 0.001\n",
    "step_limit = 500\n",
    "batchsize = 32\n",
    "\n",
    "loss_history = []\n",
    "all_reward = []\n",
    "episode_reward = 0\n",
    "\n",
    "# define network and initial buffer \n",
    "model = DQN(env.observation_space.shape[0], env.action_space.n)\n",
    "optimizer = optim.Adam(model.parameters(), lr = lr)\n",
    "buffer = Replay_Buffer()\n",
    "\n",
    "if use_cuda:\n",
    "    model = model.cuda() \n",
    "\n",
    "success = 0 \n",
    "for i in range(episode):\n",
    "        \n",
    "    state = env.reset()\n",
    "    step = 0 \n",
    "    while True:\n",
    "       \n",
    "        env.render()\n",
    "        \n",
    "        epsilon = epsilon_decay(episodes = i)\n",
    "        action = policy(state, epsilon)\n",
    "        next_state, reward, done, _ = env.step(action)\n",
    "        buffer.push(state, action, reward, next_state, done)\n",
    "              \n",
    "        episode_reward += reward\n",
    "        step += 1\n",
    "        state = next_state\n",
    "\n",
    "        if len(buffer) > batchsize:\n",
    "            loss = update_Qnetwork(batchsize, gamma, optimizer)\n",
    "            loss_history.append(loss)\n",
    "            \n",
    "        if len(buffer) > buffer_size:\n",
    "            buffer.pop()\n",
    "        \n",
    "        if done or episode_reward >= step_limit:\n",
    "            \n",
    "            if episode_reward >= step_limit:\n",
    "                success +=1 \n",
    "            all_reward.append(episode_reward)           \n",
    "            episode_reward = 0\n",
    "            break\n",
    " \n",
    "    if (i+1) % 10 == 0:\n",
    "        print(f'episode:{i+1}, reward:{all_reward[i]}, finishing after {step} step')\n",
    "\n",
    "    if success >= 10:\n",
    "        break\n",
    "        \n",
    "plot(all_reward, loss_history)\n",
    "env.close() \n",
    "print(f'finishing training after {i} episode')"
   ]
  }
 ],
 "metadata": {
  "kernelspec": {
   "display_name": "venv",
   "language": "python",
   "name": "venv"
  },
  "language_info": {
   "codemirror_mode": {
    "name": "ipython",
    "version": 3
   },
   "file_extension": ".py",
   "mimetype": "text/x-python",
   "name": "python",
   "nbconvert_exporter": "python",
   "pygments_lexer": "ipython3",
   "version": "3.6.8"
  }
 },
 "nbformat": 4,
 "nbformat_minor": 2
}
